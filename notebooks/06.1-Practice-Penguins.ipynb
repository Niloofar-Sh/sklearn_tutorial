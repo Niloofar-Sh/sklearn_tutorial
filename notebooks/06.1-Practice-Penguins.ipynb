{
 "cells": [
  {
   "cell_type": "markdown",
   "id": "6b72207a-86d1-493f-8ccc-5eb5f90cf2b1",
   "metadata": {},
   "source": [
    "# Practice Session: Palmer Penguins dataset\n",
    "\n",
    "**TODO** introduce the dataset"
   ]
  },
  {
   "cell_type": "code",
   "execution_count": 1,
   "id": "e4cd2af5-7787-47c3-a277-e913307e19c0",
   "metadata": {},
   "outputs": [],
   "source": [
    "%matplotlib inline\n",
    "import numpy as np\n",
    "import matplotlib.pyplot as plt\n",
    "plt.style.use('seaborn')"
   ]
  },
  {
   "cell_type": "markdown",
   "id": "e7cfe32f-1061-400f-be92-b3cfbb61d6b8",
   "metadata": {},
   "source": [
    "## Loading and visualizing the dataset"
   ]
  },
  {
   "cell_type": "code",
   "execution_count": 2,
   "id": "feaab3af-bba1-405f-bcef-5adcb80fd7ec",
   "metadata": {},
   "outputs": [],
   "source": [
    "import pandas as pd\n",
    "from sklearn.utils import Bunch"
   ]
  },
  {
   "cell_type": "code",
   "execution_count": 3,
   "id": "afbf2055-2082-471b-bd46-4404b946da18",
   "metadata": {},
   "outputs": [],
   "source": [
    "def prepare_penguins_dataset():\n",
    "    urls = {\n",
    "        # Adelie penguin data from: https://doi.org/10.6073/pasta/abc50eed9138b75f54eaada0841b9b86\n",
    "        \"adelie\": \"https://portal.edirepository.org/nis/dataviewer?packageid=knb-lter-pal.219.3&entityid=002f3893385f710df69eeebe893144ff\",\n",
    "        # Gentoo penguin data from: https://doi.org/10.6073/pasta/2b1cff60f81640f182433d23e68541ce\n",
    "        \"gentoo\": \"https://portal.edirepository.org/nis/dataviewer?packageid=knb-lter-pal.220.3&entityid=e03b43c924f226486f2f0ab6709d2381\",\n",
    "        # Chinstrap penguin data from: https://doi.org/10.6073/pasta/409c808f8fc9899d02401bdb04580af7\n",
    "        \"chinstrap\": \"https://portal.edirepository.org/nis/dataviewer?packageid=knb-lter-pal.221.2&entityid=fe853aa8f7a59aa84cdd3197619ef462\",\n",
    "    }\n",
    "\n",
    "    dset_raw = pd.concat([pd.read_csv(url) for url in urls.values()])\n",
    "    \n",
    "    cols = [\"Species\", \"Island\", \"Culmen Length (mm)\", \"Culmen Depth (mm)\", \"Flipper Length (mm)\", \"Body Mass (g)\", \"Sex\"]\n",
    "    dset = (\n",
    "        dset_raw[cols]\n",
    "        .where(lambda x: x[\"Sex\"].isin([\"MALE\", \"FEMALE\"]))\n",
    "        .dropna()\n",
    "        .pipe(lambda df: pd.get_dummies(df, columns=[\"Island\", \"Sex\"], prefix_sep=\" \"))\n",
    "    )\n",
    "\n",
    "    features = dset.drop(columns=\"Species\")\n",
    "    target = dset[\"Species\"].astype(\"category\")\n",
    "\n",
    "    penguins = Bunch(\n",
    "        data=features.values,\n",
    "        feature_names=features.columns,\n",
    "        target=target.cat.codes,\n",
    "        target_names=target.cat.categories.values\n",
    "    )\n",
    "\n",
    "    return penguins"
   ]
  },
  {
   "cell_type": "code",
   "execution_count": 4,
   "id": "dc2b1726-e772-4ef6-8648-e057e69fceaf",
   "metadata": {},
   "outputs": [],
   "source": [
    "penguins = prepare_penguins_dataset()"
   ]
  },
  {
   "cell_type": "code",
   "execution_count": null,
   "id": "267fe7c4-003f-44eb-a98d-77da9402c539",
   "metadata": {},
   "outputs": [],
   "source": []
  }
 ],
 "metadata": {
  "kernelspec": {
   "display_name": "Python 3.8.1 (gimkl-2018b)",
   "language": "python",
   "name": "python3"
  },
  "language_info": {
   "codemirror_mode": {
    "name": "ipython",
    "version": 3
   },
   "file_extension": ".py",
   "mimetype": "text/x-python",
   "name": "python",
   "nbconvert_exporter": "python",
   "pygments_lexer": "ipython3",
   "version": "3.8.1"
  }
 },
 "nbformat": 4,
 "nbformat_minor": 5
}
